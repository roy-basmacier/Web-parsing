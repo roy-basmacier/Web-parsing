{
  "nbformat": 4,
  "nbformat_minor": 0,
  "metadata": {
    "colab": {
      "name": "SabanciClassSMSAlerter.ipynb",
      "version": "0.3.2",
      "provenance": [],
      "collapsed_sections": []
    },
    "kernelspec": {
      "name": "python3",
      "display_name": "Python 3"
    }
  },
  "cells": [
    {
      "metadata": {
        "id": "zRv2UCB_qzjV",
        "colab_type": "text"
      },
      "cell_type": "markdown",
      "source": [
        "This program will parse Sabanci's website for the courses and it will notify you via SMS when there is an empty seat"
      ]
    },
    {
      "metadata": {
        "id": "2vOUmaXbrUv0",
        "colab_type": "text"
      },
      "cell_type": "markdown",
      "source": [
        "First we install and import *request* to access urls"
      ]
    },
    {
      "metadata": {
        "id": "AZ9WUA3jGCcc",
        "colab_type": "code",
        "colab": {
          "base_uri": "https://localhost:8080/",
          "height": 85
        },
        "outputId": "6ea2bf03-c478-4b04-9e27-af29003ba61b"
      },
      "cell_type": "code",
      "source": [
        "!apt-get install requests"
      ],
      "execution_count": 1,
      "outputs": [
        {
          "output_type": "stream",
          "text": [
            "Reading package lists... Done\n",
            "Building dependency tree       \n",
            "Reading state information... Done\n",
            "E: Unable to locate package requests\n"
          ],
          "name": "stdout"
        }
      ]
    },
    {
      "metadata": {
        "id": "Ntcg-JkBFmnl",
        "colab_type": "code",
        "colab": {}
      },
      "cell_type": "code",
      "source": [
        "import requests"
      ],
      "execution_count": 0,
      "outputs": []
    },
    {
      "metadata": {
        "id": "V7vRbgABrs7O",
        "colab_type": "text"
      },
      "cell_type": "markdown",
      "source": [
        "Then we install and import *lxml* which allows us to easily parse html"
      ]
    },
    {
      "metadata": {
        "id": "-CzWdp1aHc9P",
        "colab_type": "code",
        "colab": {
          "base_uri": "https://localhost:8080/",
          "height": 122
        },
        "outputId": "b0521af2-aaff-4b7e-a6e7-ff2c39f85405"
      },
      "cell_type": "code",
      "source": [
        "!pip install lxml"
      ],
      "execution_count": 4,
      "outputs": [
        {
          "output_type": "stream",
          "text": [
            "Collecting lxml\n",
            "\u001b[?25l  Downloading https://files.pythonhosted.org/packages/03/a4/9eea8035fc7c7670e5eab97f34ff2ef0ddd78a491bf96df5accedb0e63f5/lxml-4.2.5-cp36-cp36m-manylinux1_x86_64.whl (5.8MB)\n",
            "\u001b[K    100% |████████████████████████████████| 5.8MB 5.0MB/s \n",
            "\u001b[?25hInstalling collected packages: lxml\n",
            "Successfully installed lxml-4.2.5\n"
          ],
          "name": "stdout"
        }
      ]
    },
    {
      "metadata": {
        "id": "ffTHozKmJOI7",
        "colab_type": "code",
        "colab": {}
      },
      "cell_type": "code",
      "source": [
        "import lxml\n",
        "from lxml import html"
      ],
      "execution_count": 0,
      "outputs": []
    },
    {
      "metadata": {
        "id": "l9nSGsUSsJMG",
        "colab_type": "text"
      },
      "cell_type": "markdown",
      "source": [
        "Now we get the course code number of the courses we want to check"
      ]
    },
    {
      "metadata": {
        "id": "wDP1xopoPZwX",
        "colab_type": "code",
        "colab": {}
      },
      "cell_type": "code",
      "source": [
        "MATH = 11033\n",
        "MR = list(range(11035, 11035 + 12))\n",
        "MR"
      ],
      "execution_count": 0,
      "outputs": []
    },
    {
      "metadata": {
        "id": "OYyEwhLdQCzr",
        "colab_type": "code",
        "colab": {
          "base_uri": "https://localhost:8080/",
          "height": 34
        },
        "outputId": "58f85cab-bca6-4988-9e02-19c75f863788"
      },
      "cell_type": "code",
      "source": [
        "CS = 11063\n",
        "CR = [11107, 11108, 11149, 11150, 11155, 11156]\n",
        "CR\n"
      ],
      "execution_count": 7,
      "outputs": [
        {
          "output_type": "execute_result",
          "data": {
            "text/plain": [
              "[11107, 11108, 11149, 11150, 11155, 11156]"
            ]
          },
          "metadata": {
            "tags": []
          },
          "execution_count": 7
        }
      ]
    },
    {
      "metadata": {
        "id": "6qqZbigVR8UY",
        "colab_type": "code",
        "colab": {
          "base_uri": "https://localhost:8080/",
          "height": 34
        },
        "outputId": "c1de8d24-294f-4bba-dd4f-93eabc43a7b5"
      },
      "cell_type": "code",
      "source": [
        "CLASSES = [MATH,CS]\n",
        "CLASSES"
      ],
      "execution_count": 8,
      "outputs": [
        {
          "output_type": "execute_result",
          "data": {
            "text/plain": [
              "[11033, 11063]"
            ]
          },
          "metadata": {
            "tags": []
          },
          "execution_count": 8
        }
      ]
    },
    {
      "metadata": {
        "id": "Nkvu0CWil8QV",
        "colab_type": "text"
      },
      "cell_type": "markdown",
      "source": [
        "We install and import *twilio* In order to send SMS to my phone number"
      ]
    },
    {
      "metadata": {
        "id": "U5aCQibaRSWM",
        "colab_type": "code",
        "colab": {
          "base_uri": "https://localhost:8080/",
          "height": 394
        },
        "outputId": "65c27977-5972-452d-8eb0-ddd9ef8c6f55"
      },
      "cell_type": "code",
      "source": [
        "!pip install twilio"
      ],
      "execution_count": 9,
      "outputs": [
        {
          "output_type": "stream",
          "text": [
            "Collecting twilio\n",
            "\u001b[?25l  Downloading https://files.pythonhosted.org/packages/78/e6/b4043da46b968103f75c7d4ebe45a84ffaa5a1185b0f751f685e2e71629a/twilio-6.17.0-py2.py3-none-any.whl (899kB)\n",
            "\u001b[K    100% |████████████████████████████████| 901kB 9.5MB/s \n",
            "\u001b[?25hRequirement already satisfied: pytz in /usr/local/lib/python3.6/dist-packages (from twilio) (2018.5)\n",
            "Requirement already satisfied: requests>=2.0.0; python_version >= \"3.0\" in /usr/local/lib/python3.6/dist-packages (from twilio) (2.18.4)\n",
            "Requirement already satisfied: six in /usr/local/lib/python3.6/dist-packages (from twilio) (1.11.0)\n",
            "Collecting PyJWT>=1.4.2 (from twilio)\n",
            "  Downloading https://files.pythonhosted.org/packages/93/d1/3378cc8184a6524dc92993090ee8b4c03847c567e298305d6cf86987e005/PyJWT-1.6.4-py2.py3-none-any.whl\n",
            "Collecting pysocks; python_version >= \"3.0\" (from twilio)\n",
            "\u001b[?25l  Downloading https://files.pythonhosted.org/packages/53/12/6bf1d764f128636cef7408e8156b7235b150ea31650d0260969215bb8e7d/PySocks-1.6.8.tar.gz (283kB)\n",
            "\u001b[K    100% |████████████████████████████████| 286kB 8.8MB/s \n",
            "\u001b[?25hRequirement already satisfied: urllib3<1.23,>=1.21.1 in /usr/local/lib/python3.6/dist-packages (from requests>=2.0.0; python_version >= \"3.0\"->twilio) (1.22)\n",
            "Requirement already satisfied: chardet<3.1.0,>=3.0.2 in /usr/local/lib/python3.6/dist-packages (from requests>=2.0.0; python_version >= \"3.0\"->twilio) (3.0.4)\n",
            "Requirement already satisfied: certifi>=2017.4.17 in /usr/local/lib/python3.6/dist-packages (from requests>=2.0.0; python_version >= \"3.0\"->twilio) (2018.8.24)\n",
            "Requirement already satisfied: idna<2.7,>=2.5 in /usr/local/lib/python3.6/dist-packages (from requests>=2.0.0; python_version >= \"3.0\"->twilio) (2.6)\n",
            "Building wheels for collected packages: pysocks\n",
            "  Running setup.py bdist_wheel for pysocks ... \u001b[?25l-\b \bdone\n",
            "\u001b[?25h  Stored in directory: /root/.cache/pip/wheels/22/5c/b5/12e0dfdfa85bea67b23628b6425fae715c687e947a45ee3df9\n",
            "Successfully built pysocks\n",
            "Installing collected packages: PyJWT, pysocks, twilio\n",
            "Successfully installed PyJWT-1.6.4 pysocks-1.6.8 twilio-6.17.0\n"
          ],
          "name": "stdout"
        }
      ]
    },
    {
      "metadata": {
        "id": "-eAnIyOUtIqy",
        "colab_type": "text"
      },
      "cell_type": "markdown",
      "source": [
        "We define a function called sendSMS which will send an SMS from twilio's registered phone number to my phone number"
      ]
    },
    {
      "metadata": {
        "id": "o3YMPFrFl-r8",
        "colab_type": "code",
        "colab": {}
      },
      "cell_type": "code",
      "source": [
        "from twilio.rest import Client\n",
        "def sendSMS(msg):\n",
        "  account_sid = \"AC1d933a532f82a7a93a2a888bf51d4c49\"\n",
        "  auth_token = \"ce3713fe7fcf2ac91702719738370e72\"\n",
        "  client = Client(account_sid,auth_token)\n",
        "\n",
        "  client.messages.create(\n",
        "      to=\"+90 551 554 62 74\",\n",
        "      from_=\"+15012388272\",\n",
        "      body=msg)"
      ],
      "execution_count": 0,
      "outputs": []
    },
    {
      "metadata": {
        "id": "aAyVQSEKQ-YR",
        "colab_type": "text"
      },
      "cell_type": "markdown",
      "source": [
        "Now we can define a fuction checkSeats which will check the given list of course code numbers and will call sendSMS to notify us. However, we will have to delay each url request by importing random and time because requesting the url too fast will get us blocked for ddos attempts"
      ]
    },
    {
      "metadata": {
        "id": "KfAIZtWnRC3b",
        "colab_type": "code",
        "colab": {}
      },
      "cell_type": "code",
      "source": [
        "from random import *\n",
        "import time\n",
        "\n",
        "def checkSeats(id_list, isDelay=False):\n",
        "  if isDelay:\n",
        "    time.sleep(randint(5,15))\n",
        "    \n",
        "  URL = 'http://suis.sabanciuniv.edu/prod/bwckschd.p_disp_detail_sched?term_in=201801&crn_in='\n",
        "  course_no = choice(id_list)\n",
        "  URL += str(course_no)\n",
        "  r = requests.get(URL)\n",
        "  tree = lxml.html.fromstring(r.content)\n",
        "  elms = tree.find_class('dddefault')\n",
        "\n",
        "  cnt = 0\n",
        "  data = [] # CAP , ACTUAL , REM\n",
        "\n",
        "  for el in elms:\n",
        "    if el.text_content().isdigit():\n",
        "      cnt += 1\n",
        "      data.append(int(el.text_content()))\n",
        "    if cnt > 2:\n",
        "      break\n",
        "  if data[-1] > 0:\n",
        "    print(data)\n",
        "    print(('EMPTY SEAT FOUND AT ' + str(course_no)))\n",
        "    sendSMS(('EMPTY SEAT FOUND AT ' + str(course_no)))\n",
        "    return course_no\n",
        "  return 0\n",
        "  \n",
        "  "
      ],
      "execution_count": 0,
      "outputs": []
    },
    {
      "metadata": {
        "id": "PZLQdMgxqFVv",
        "colab_type": "text"
      },
      "cell_type": "markdown",
      "source": [
        "Here is where we will start the search loop, after finding the course that is available we will also need the recitation course code in order to register for the course"
      ]
    },
    {
      "metadata": {
        "id": "BDWLmalkqGZK",
        "colab_type": "code",
        "colab": {}
      },
      "cell_type": "code",
      "source": [
        "looping = False\n",
        "while not looping:\n",
        "  looping = checkSeats(CLASSES, True)\n",
        "\n",
        "looping = int(looping)\n",
        "print(looping)\n",
        "if MATH == looping:\n",
        "  for id in MR:\n",
        "    checkSeats([id])\n",
        "elif CS == looping :\n",
        "for id in CR:\n",
        "  checkSeats([id])\n"
      ],
      "execution_count": 0,
      "outputs": []
    }
  ]
}