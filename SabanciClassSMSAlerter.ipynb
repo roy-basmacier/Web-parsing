{
  "nbformat": 4,
  "nbformat_minor": 0,
  "metadata": {
    "colab": {
      "name": "SabanciClassSMSAlerter.ipynb",
      "version": "0.3.2",
      "provenance": [],
      "collapsed_sections": []
    },
    "kernelspec": {
      "name": "python3",
      "display_name": "Python 3"
    }
  },
  "cells": [
    {
      "metadata": {
        "id": "zRv2UCB_qzjV",
        "colab_type": "text"
      },
      "cell_type": "markdown",
      "source": [
        "This program will parse Sabanci's website for the courses and it will notify you via SMS when there is an empty seat"
      ]
    },
    {
      "metadata": {
        "id": "2vOUmaXbrUv0",
        "colab_type": "text"
      },
      "cell_type": "markdown",
      "source": [
        "First we install and import *request* to access urls"
      ]
    },
    {
      "metadata": {
        "id": "AZ9WUA3jGCcc",
        "colab_type": "code",
        "colab": {}
      },
      "cell_type": "code",
      "source": [
        "!apt-get install requests"
      ],
      "execution_count": 1,
      "outputs": []
    },
    {
      "metadata": {
        "id": "Ntcg-JkBFmnl",
        "colab_type": "code",
        "colab": {}
      },
      "cell_type": "code",
      "source": [
        "import requests"
      ],
      "execution_count": 2,
      "outputs": []
    },
    {
      "metadata": {
        "id": "V7vRbgABrs7O",
        "colab_type": "text"
      },
      "cell_type": "markdown",
      "source": [
        "Then we install and import *lxml* which allows us to easily parse html"
      ]
    },
    {
      "metadata": {
        "id": "-CzWdp1aHc9P",
        "colab_type": "code",
        "colab": {}
      },
      "cell_type": "code",
      "source": [
        "!pip install lxml"
      ],
      "execution_count": 3,
      "outputs": []
    },
    {
      "metadata": {
        "id": "ffTHozKmJOI7",
        "colab_type": "code",
        "colab": {}
      },
      "cell_type": "code",
      "source": [
        "import lxml\n",
        "from lxml import html"
      ],
      "execution_count": 4,
      "outputs": []
    },
    {
      "metadata": {
        "id": "l9nSGsUSsJMG",
        "colab_type": "text"
      },
      "cell_type": "markdown",
      "source": [
        "Now we get the course code number of the courses we want to check"
      ]
    },
    {
      "metadata": {
        "id": "wDP1xopoPZwX",
        "colab_type": "code",
        "colab": {
          "base_uri": "https://localhost:8080/",
          "height": 221
        },
        "outputId": "e146a23c-b563-4dfd-84f2-e4dd8ab23efb"
      },
      "cell_type": "code",
      "source": [
        "MATH = 11033\n",
        "MR = list(range(11035, 11035 + 12))\n",
        "MR"
      ],
      "execution_count": 5,
      "outputs": [
        {
          "output_type": "execute_result",
          "data": {
            "text/plain": [
              "[11035,\n",
              " 11036,\n",
              " 11037,\n",
              " 11038,\n",
              " 11039,\n",
              " 11040,\n",
              " 11041,\n",
              " 11042,\n",
              " 11043,\n",
              " 11044,\n",
              " 11045,\n",
              " 11046]"
            ]
          },
          "metadata": {
            "tags": []
          },
          "execution_count": 5
        }
      ]
    },
    {
      "metadata": {
        "id": "OYyEwhLdQCzr",
        "colab_type": "code",
        "colab": {}
      },
      "cell_type": "code",
      "source": [
        "CS = 11063\n",
        "CR = [11107, 11108, 11149, 11150, 11155, 11156]\n",
        "CR\n"
      ],
      "execution_count": 6,
      "outputs": []
    },
    {
      "metadata": {
        "id": "6qqZbigVR8UY",
        "colab_type": "code",
        "colab": {
          "base_uri": "https://localhost:8080/",
          "height": 34
        },
        "outputId": "dbe82ff7-e6f6-4fc9-af87-2183a6e708f3"
      },
      "cell_type": "code",
      "source": [
        "CLASSES = [MATH,CS]\n",
        "CLASSES"
      ],
      "execution_count": 7,
      "outputs": [
        {
          "output_type": "execute_result",
          "data": {
            "text/plain": [
              "[11033, 11063]"
            ]
          },
          "metadata": {
            "tags": []
          },
          "execution_count": 8
        }
      ]
    },
    {
      "metadata": {
        "id": "Nkvu0CWil8QV",
        "colab_type": "text"
      },
      "cell_type": "markdown",
      "source": [
        "We install and import *twilio* In order to send SMS to my phone number"
      ]
    },
    {
      "metadata": {
        "id": "U5aCQibaRSWM",
        "colab_type": "code",
        "colab": {}
      },
      "cell_type": "code",
      "source": [
        "!pip install twilio"
      ],
      "execution_count": 9,
      "outputs": []
    },
    {
      "metadata": {
        "id": "-eAnIyOUtIqy",
        "colab_type": "text"
      },
      "cell_type": "markdown",
      "source": [
        "We define a function called sendSMS which will send an SMS from twilio's registered phone number to my phone number"
      ]
    },
    {
      "metadata": {
        "id": "o3YMPFrFl-r8",
        "colab_type": "code",
        "colab": {}
      },
      "cell_type": "code",
      "source": [
        "from twilio.rest import Client\n",
        "def sendSMS(msg):\n",
        "  account_sid = \"AC1d933a532f82a7a93a2a888bf51d4c49\"\n",
        "  auth_token = \"ce3713fe7fcf2ac91702719738370e72\"\n",
        "  client = Client(account_sid,auth_token)\n",
        "\n",
        "  client.messages.create(\n",
        "      to=\"+90 551 554 62 74\",\n",
        "      from_=\"+15012388272\",\n",
        "      body=msg)"
      ],
      "execution_count": 10,
      "outputs": []
    },
    {
      "metadata": {
        "id": "aAyVQSEKQ-YR",
        "colab_type": "text"
      },
      "cell_type": "markdown",
      "source": [
        "Now we can define a fuction checkSeats which will check the given list of course code numbers and will call sendSMS to notify us. However, we will have to delay each url request by importing random and time because requesting the url too fast will get us blocked for ddos attempts"
      ]
    },
    {
      "metadata": {
        "id": "KfAIZtWnRC3b",
        "colab_type": "code",
        "colab": {}
      },
      "cell_type": "code",
      "source": [
        "from random import *\n",
        "import time\n",
        "\n",
        "def checkSeats(id_list, isDelay=False):\n",
        "  if isDelay:\n",
        "    time.sleep(randint(5,15))\n",
        "    \n",
        "  URL = 'http://suis.sabanciuniv.edu/prod/bwckschd.p_disp_detail_sched?term_in=201801&crn_in='\n",
        "  course_no = choice(id_list)\n",
        "  URL += str(course_no)\n",
        "  r = requests.get(URL)\n",
        "  tree = lxml.html.fromstring(r.content)\n",
        "  elms = tree.find_class('dddefault')\n",
        "\n",
        "  cnt = 0\n",
        "  data = [] # CAP , ACTUAL , REM\n",
        "\n",
        "  for el in elms:\n",
        "    if el.text_content().isdigit():\n",
        "      cnt += 1\n",
        "      data.append(int(el.text_content()))\n",
        "    if cnt > 2:\n",
        "      break\n",
        "  if data[-1] > 0:\n",
        "    print(data)\n",
        "    print(('EMPTY SEAT FOUND AT ' + str(course_no)))\n",
        "    sendSMS(('EMPTY SEAT FOUND AT ' + str(course_no)))\n",
        "    return course_no\n",
        "  return 0\n",
        "  \n",
        "  "
      ],
      "execution_count": 11,
      "outputs": []
    },
    {
      "metadata": {
        "id": "PZLQdMgxqFVv",
        "colab_type": "text"
      },
      "cell_type": "markdown",
      "source": [
        "Here is where we will start the search loop, after finding the course that is available we will also need the recitation course code in order to register for the course"
      ]
    },
    {
      "metadata": {
        "id": "BDWLmalkqGZK",
        "colab_type": "code",
        "colab": {}
      },
      "cell_type": "code",
      "source": [
        "looping = False\n",
        "while not looping:\n",
        "  looping = checkSeats(CLASSES, True)\n",
        "\n",
        "looping = int(looping)\n",
        "print(looping)\n",
        "if MATH == looping:\n",
        "  for id in MR:\n",
        "    checkSeats([id])\n",
        "elif CS == looping :\n",
        "  for id in CR:\n",
        "    checkSeats([id])\n"
      ],
      "execution_count": 12,
      "outputs": []
    }
  ]
}
